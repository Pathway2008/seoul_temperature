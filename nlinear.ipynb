{
 "cells": [
  {
   "cell_type": "code",
   "execution_count": 1,
   "id": "0cd1229d-ba03-4ec8-b8e1-ae6c4f61f12a",
   "metadata": {},
   "outputs": [],
   "source": [
    "import pandas as pd\n",
    "data = pd.read_csv(\"train.csv\")\n",
    "submit = pd.read_csv('sample_submission.csv')"
   ]
  },
  {
   "cell_type": "code",
   "execution_count": 2,
   "id": "bdbb64a5-05ac-48ee-82cd-42ccf2ca5fc3",
   "metadata": {
    "scrolled": true
   },
   "outputs": [
    {
     "name": "stderr",
     "output_type": "stream",
     "text": [
      "D:\\mdrive\\dacon\\envs\\sun\\lib\\site-packages\\torchvision\\io\\image.py:11: UserWarning: Failed to load image Python extension: [WinError 127] The specified procedure could not be found\n",
      "  warn(f\"Failed to load image Python extension: {e}\")\n",
      "C:\\Users\\82105\\AppData\\Local\\Temp\\ipykernel_13952\\4091972756.py:13: FutureWarning: DataFrame.mean and DataFrame.median with numeric_only=None will include datetime64 and datetime64tz columns in a future version.\n",
      "  df = df.fillna(df.mean())\n",
      "GPU available: False, used: False\n",
      "TPU available: False, using: 0 TPU cores\n",
      "IPU available: False, using: 0 IPUs\n",
      "HPU available: False, using: 0 HPUs\n",
      "\n",
      "  | Name          | Type             | Params\n",
      "---------------------------------------------------\n",
      "0 | criterion     | MSELoss          | 0     \n",
      "1 | train_metrics | MetricCollection | 0     \n",
      "2 | val_metrics   | MetricCollection | 0     \n",
      "3 | layer         | Linear           | 326 K \n",
      "---------------------------------------------------\n",
      "326 K     Trainable params\n",
      "0         Non-trainable params\n",
      "326 K     Total params\n",
      "1.306     Total estimated model params size (MB)\n"
     ]
    },
    {
     "data": {
      "application/vnd.jupyter.widget-view+json": {
       "model_id": "abd79fea8731478ba900c36613a1e665",
       "version_major": 2,
       "version_minor": 0
      },
      "text/plain": [
       "Training: |                                                                                      | 0/? [00:00<…"
      ]
     },
     "metadata": {},
     "output_type": "display_data"
    },
    {
     "name": "stderr",
     "output_type": "stream",
     "text": [
      "`Trainer.fit` stopped: `max_epochs=1` reached.\n"
     ]
    },
    {
     "data": {
      "text/plain": [
       "NLinearModel(shared_weights=False, const_init=True, normalize=False, use_static_covariates=True, input_chunk_length=709, output_chunk_length=460, n_epochs=1, random_state=42, batch_size=293)"
      ]
     },
     "execution_count": 2,
     "metadata": {},
     "output_type": "execute_result"
    }
   ],
   "source": [
    "import pandas as pd\n",
    "from datetime import datetime\n",
    "from darts import TimeSeries\n",
    "from darts.models import NLinearModel\n",
    "\n",
    "\n",
    "# 데이터를 불러오기\n",
    "\n",
    "df = pd.DataFrame(data)\n",
    "df['일시'] = pd.to_datetime(df['일시'])\n",
    "\n",
    "# NaN 값 처리 (예시로 평균값으로 대체)\n",
    "df = df.fillna(df.mean())\n",
    "\n",
    "# TimeSeries 객체 생성\n",
    "series = TimeSeries.from_dataframe(df, '일시', ['평균기온'])\n",
    "\n",
    "\n",
    "# NLinearModel 모델 생성 및 훈련\n",
    "model = NLinearModel(input_chunk_length=709, \n",
    "                     output_chunk_length=460, \n",
    "                     n_epochs=1,\n",
    "                     random_state = 42,\n",
    "                     batch_size = 293)\n",
    "model.fit(series)"
   ]
  },
  {
   "cell_type": "code",
   "execution_count": 3,
   "id": "ddc1df86-ba85-47c9-b142-178270c934cc",
   "metadata": {},
   "outputs": [
    {
     "name": "stderr",
     "output_type": "stream",
     "text": [
      "GPU available: False, used: False\n",
      "TPU available: False, using: 0 TPU cores\n",
      "IPU available: False, using: 0 IPUs\n",
      "HPU available: False, using: 0 HPUs\n"
     ]
    },
    {
     "data": {
      "application/vnd.jupyter.widget-view+json": {
       "model_id": "2f5ebf7aa8904533bd6f80a3ccd9d8ff",
       "version_major": 2,
       "version_minor": 0
      },
      "text/plain": [
       "Predicting: |                                                                                    | 0/? [00:00<…"
      ]
     },
     "metadata": {},
     "output_type": "display_data"
    }
   ],
   "source": [
    "future = pd.DataFrame()\n",
    "future['일시'] = pd.date_range(start='2023-01-01', periods=358, freq='D')\n",
    "\n",
    "# 모델로 예측 수행\n",
    "forecast = model.predict(len(future['일시']))\n",
    "pred_y = forecast['평균기온']"
   ]
  },
  {
   "cell_type": "code",
   "execution_count": 4,
   "id": "14a87501-d85e-4cd6-a59c-61dce23dd862",
   "metadata": {},
   "outputs": [
    {
     "data": {
      "text/plain": [
       "<bound method TimeSeries.values of <TimeSeries (DataArray) (일시: 358, component: 1, sample: 1)>\n",
       "array([[[-1.97777815]],\n",
       "\n",
       "       [[-1.8474555 ]],\n",
       "\n",
       "       [[-1.87907656]],\n",
       "\n",
       "       [[-2.15782675]],\n",
       "\n",
       "       [[-2.04946187]],\n",
       "\n",
       "       [[-1.69347758]],\n",
       "\n",
       "       [[-0.64261006]],\n",
       "\n",
       "       [[-0.47493156]],\n",
       "\n",
       "       [[-1.44743176]],\n",
       "\n",
       "       [[-0.85983496]],\n",
       "\n",
       "...\n",
       "\n",
       "       [[ 1.70681223]],\n",
       "\n",
       "       [[ 1.27904887]],\n",
       "\n",
       "       [[ 0.15077911]],\n",
       "\n",
       "       [[ 0.24764054]],\n",
       "\n",
       "       [[ 0.23438581]],\n",
       "\n",
       "       [[ 0.04056526]],\n",
       "\n",
       "       [[-0.3453204 ]],\n",
       "\n",
       "       [[-0.84971934]],\n",
       "\n",
       "       [[-0.68392419]],\n",
       "\n",
       "       [[ 0.55931696]]])\n",
       "Coordinates:\n",
       "  * 일시         (일시) datetime64[ns] 2023-01-01 2023-01-02 ... 2023-12-24\n",
       "  * component  (component) object '평균기온'\n",
       "Dimensions without coordinates: sample\n",
       "Attributes:\n",
       "    static_covariates:  None\n",
       "    hierarchy:          None>"
      ]
     },
     "execution_count": 4,
     "metadata": {},
     "output_type": "execute_result"
    }
   ],
   "source": [
    "pred_y['평균기온'].values"
   ]
  },
  {
   "cell_type": "code",
   "execution_count": 5,
   "id": "19b49439-d7e7-433f-99d0-1f99aa15a4c9",
   "metadata": {},
   "outputs": [],
   "source": [
    "import pandas as pd\n",
    "\n",
    "# Assuming pred_y is a TimeSeries object\n",
    "pred_y_values = pred_y.pd_dataframe().values\n",
    "\n",
    "# Now you can use pred_y_values as a numpy array or convert it to a DataFrame\n",
    "df_pred_y = pd.DataFrame(pred_y_values, index=pred_y.time_index, columns=pred_y.columns)\n"
   ]
  },
  {
   "cell_type": "code",
   "execution_count": 6,
   "id": "d0d9e5dc-9873-472e-931e-8f66df13027d",
   "metadata": {},
   "outputs": [],
   "source": [
    "submit['평균기온'] = df_pred_y['평균기온'].values"
   ]
  },
  {
   "cell_type": "code",
   "execution_count": 7,
   "id": "516c2402-c21b-44d5-8f7f-4da86db01561",
   "metadata": {},
   "outputs": [],
   "source": [
    "#결과 저장\n",
    "submit.to_csv(\"FFFFFINAL.csv\", index=False)"
   ]
  },
  {
   "cell_type": "code",
   "execution_count": 8,
   "id": "a0411dba-9e44-47c5-ab0a-d47b0c094b53",
   "metadata": {},
   "outputs": [
    {
     "data": {
      "text/html": [
       "<div>\n",
       "<style scoped>\n",
       "    .dataframe tbody tr th:only-of-type {\n",
       "        vertical-align: middle;\n",
       "    }\n",
       "\n",
       "    .dataframe tbody tr th {\n",
       "        vertical-align: top;\n",
       "    }\n",
       "\n",
       "    .dataframe thead th {\n",
       "        text-align: right;\n",
       "    }\n",
       "</style>\n",
       "<table border=\"1\" class=\"dataframe\">\n",
       "  <thead>\n",
       "    <tr style=\"text-align: right;\">\n",
       "      <th></th>\n",
       "      <th>일시</th>\n",
       "      <th>평균기온</th>\n",
       "    </tr>\n",
       "  </thead>\n",
       "  <tbody>\n",
       "    <tr>\n",
       "      <th>0</th>\n",
       "      <td>2023-01-01</td>\n",
       "      <td>-1.977778</td>\n",
       "    </tr>\n",
       "    <tr>\n",
       "      <th>1</th>\n",
       "      <td>2023-01-02</td>\n",
       "      <td>-1.847456</td>\n",
       "    </tr>\n",
       "    <tr>\n",
       "      <th>2</th>\n",
       "      <td>2023-01-03</td>\n",
       "      <td>-1.879077</td>\n",
       "    </tr>\n",
       "    <tr>\n",
       "      <th>3</th>\n",
       "      <td>2023-01-04</td>\n",
       "      <td>-2.157827</td>\n",
       "    </tr>\n",
       "    <tr>\n",
       "      <th>4</th>\n",
       "      <td>2023-01-05</td>\n",
       "      <td>-2.049462</td>\n",
       "    </tr>\n",
       "    <tr>\n",
       "      <th>...</th>\n",
       "      <td>...</td>\n",
       "      <td>...</td>\n",
       "    </tr>\n",
       "    <tr>\n",
       "      <th>353</th>\n",
       "      <td>2023-12-20</td>\n",
       "      <td>0.040565</td>\n",
       "    </tr>\n",
       "    <tr>\n",
       "      <th>354</th>\n",
       "      <td>2023-12-21</td>\n",
       "      <td>-0.345320</td>\n",
       "    </tr>\n",
       "    <tr>\n",
       "      <th>355</th>\n",
       "      <td>2023-12-22</td>\n",
       "      <td>-0.849719</td>\n",
       "    </tr>\n",
       "    <tr>\n",
       "      <th>356</th>\n",
       "      <td>2023-12-23</td>\n",
       "      <td>-0.683924</td>\n",
       "    </tr>\n",
       "    <tr>\n",
       "      <th>357</th>\n",
       "      <td>2023-12-24</td>\n",
       "      <td>0.559317</td>\n",
       "    </tr>\n",
       "  </tbody>\n",
       "</table>\n",
       "<p>358 rows × 2 columns</p>\n",
       "</div>"
      ],
      "text/plain": [
       "             일시      평균기온\n",
       "0    2023-01-01 -1.977778\n",
       "1    2023-01-02 -1.847456\n",
       "2    2023-01-03 -1.879077\n",
       "3    2023-01-04 -2.157827\n",
       "4    2023-01-05 -2.049462\n",
       "..          ...       ...\n",
       "353  2023-12-20  0.040565\n",
       "354  2023-12-21 -0.345320\n",
       "355  2023-12-22 -0.849719\n",
       "356  2023-12-23 -0.683924\n",
       "357  2023-12-24  0.559317\n",
       "\n",
       "[358 rows x 2 columns]"
      ]
     },
     "execution_count": 8,
     "metadata": {},
     "output_type": "execute_result"
    }
   ],
   "source": [
    "submit"
   ]
  }
 ],
 "metadata": {
  "kernelspec": {
   "display_name": "sun",
   "language": "python",
   "name": "sun"
  },
  "language_info": {
   "codemirror_mode": {
    "name": "ipython",
    "version": 3
   },
   "file_extension": ".py",
   "mimetype": "text/x-python",
   "name": "python",
   "nbconvert_exporter": "python",
   "pygments_lexer": "ipython3",
   "version": "3.8.18"
  }
 },
 "nbformat": 4,
 "nbformat_minor": 5
}
